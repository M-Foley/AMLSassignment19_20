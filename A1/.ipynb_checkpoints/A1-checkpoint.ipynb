{
 "cells": [
  {
   "cell_type": "code",
   "execution_count": 1,
   "metadata": {},
   "outputs": [],
   "source": [
    "import sys\n",
    "import os\n",
    "import pandas as pd\n",
    "import seaborn as sns\n",
    "import numpy as np\n",
    "import cv2\n",
    "import matplotlib.pyplot as plt\n",
    "from sklearn.model_selection import train_test_split\n",
    "from sklearn.metrics import confusion_matrix, accuracy_score, roc_auc_score, roc_curve\n",
    "from sklearn.linear_model import LogisticRegression"
   ]
  },
  {
   "cell_type": "code",
   "execution_count": 3,
   "metadata": {},
   "outputs": [
    {
     "name": "stdout",
     "output_type": "stream",
     "text": [
      "(5000, 2)\n"
     ]
    }
   ],
   "source": [
    "ROWS = 64\n",
    "COLS = 64\n",
    "CHANNELS = 3\n",
    "print(gender_labels.shape)\n",
    "# Create dataframes for test and train data split into .75 and .25 for train and test respectively\n",
    "X_train = pd.DataFrame(np.zeros((int(.75*gender_labels.shape[0]), ROWS * COLS * CHANNELS)))\n",
    "X_test = pd.DataFrame(np.zeros((int(.25*gender_labels.shape[0]), ROWS * COLS * CHANNELS)))\n",
    "y_train = list()\n",
    "y_test = list()"
   ]
  },
  {
   "cell_type": "code",
   "execution_count": 8,
   "metadata": {},
   "outputs": [],
   "source": [
    "# Read the image names \n",
    "img_path = path + 'Datasets/dataset_AMLS_19-20/celeba/img/' # path of your image folder\n",
    "train_image_name = [img_path + each for each in train_data['img_name'].values.tolist()]\n",
    "test_image_name = [img_path + each for each in test_data['img_name'].values.tolist()]"
   ]
  },
  {
   "cell_type": "code",
   "execution_count": 9,
   "metadata": {},
   "outputs": [],
   "source": [
    "def prep_img(img_path, rows, columns):\n",
    "    # resize the image and flatten to use in LR\n",
    "    img = cv2.imread(img_path,cv2.IMREAD_COLOR)\n",
    "    img = cv2.resize(img, (rows, columns))\n",
    "    return(pd.Series(img.flatten()))\n"
   ]
  },
  {
   "cell_type": "code",
   "execution_count": 10,
   "metadata": {},
   "outputs": [],
   "source": [
    "def create_train_set():\n",
    "    \n",
    "    counter_train = 0\n",
    "    X_train = pd.DataFrame(np.zeros((int(.75*labels.shape[0]), ROWS * COLS * CHANNELS)))\n",
    "    y_train = list()\n",
    "\n",
    "    # create the training set\n",
    "    for img in train_image_name:\n",
    "        X_train.iloc[counter_train, :] = prep_img(img, ROWS, COLS) / 255\n",
    "        counter_train += 1\n",
    "    \n",
    "    y_train = train_data.iloc[:,1].values.tolist()\n",
    "    return X_train, y_train\n"
   ]
  },
  {
   "cell_type": "code",
   "execution_count": 11,
   "metadata": {
    "scrolled": true
   },
   "outputs": [],
   "source": [
    "#print(y_train)"
   ]
  },
  {
   "cell_type": "code",
   "execution_count": 12,
   "metadata": {},
   "outputs": [],
   "source": [
    "# create the test dataset\n",
    "def create_test_set():\n",
    "    counter_test = 0\n",
    "    X_test = pd.DataFrame(np.zeros((int(.25*labels.shape[0]), ROWS * COLS * CHANNELS)))\n",
    "    y_test = list()\n",
    "    for img in test_image_name:\n",
    "        X_test.iloc[counter_test, :] = prep_img(img, ROWS, COLS) / 255\n",
    "        counter_test += 1\n",
    "\n",
    "    y_test = test_data.iloc[:,1].values.tolist()\n",
    "    return X_test, y_test"
   ]
  },
  {
   "cell_type": "code",
   "execution_count": null,
   "metadata": {},
   "outputs": [],
   "source": [
    "def create_dataset(labels):\n",
    "    \n",
    "    img_path = path + 'Datasets/dataset_AMLS_19-20/celeba/img/' # path of your image folder\n",
    "    train_image_name = [img_path + each for each in train_data['img_name'].values.tolist()]\n",
    "    test_image_name = [img_path + each for each in test_data['img_name'].values.tolist()]\n",
    "    \n",
    "    # Create dataframes for test and train data split into .75 and .25 for train and test respectively\n",
    "    X_train, y_train = create_train_set(train_image_name, labels)\n",
    "    X_test, y_test = create_test_set(test_image_name, labels)"
   ]
  },
  {
   "cell_type": "code",
   "execution_count": 13,
   "metadata": {},
   "outputs": [],
   "source": [
    "def create_model():\n",
    "    return LogisticRegression(C=0.15, max_iter=400, solver='liblinear')\n"
   ]
  },
  {
   "cell_type": "code",
   "execution_count": 14,
   "metadata": {},
   "outputs": [
    {
     "data": {
      "text/plain": [
       "LogisticRegression(C=0.15, class_weight=None, dual=False, fit_intercept=True,\n",
       "                   intercept_scaling=1, l1_ratio=None, max_iter=400,\n",
       "                   multi_class='warn', n_jobs=None, penalty='l2',\n",
       "                   random_state=None, solver='liblinear', tol=0.0001, verbose=0,\n",
       "                   warm_start=False)"
      ]
     },
     "execution_count": 14,
     "metadata": {},
     "output_type": "execute_result"
    }
   ],
   "source": [
    "def train_model():\n",
    "    return logreg_classifier.fit(X_train, y_train)"
   ]
  },
  {
   "cell_type": "code",
   "execution_count": 15,
   "metadata": {},
   "outputs": [],
   "source": [
    "predictions = logreg_classifier.predict(X_test)"
   ]
  },
  {
   "cell_type": "code",
   "execution_count": 16,
   "metadata": {},
   "outputs": [
    {
     "name": "stdout",
     "output_type": "stream",
     "text": [
      "0.9072\n"
     ]
    }
   ],
   "source": [
    "score = logreg_classifier.score(X_test, y_test)\n",
    "print(score)"
   ]
  },
  {
   "cell_type": "code",
   "execution_count": 17,
   "metadata": {},
   "outputs": [],
   "source": [
    "def pretty_cm(y_pred, y_truth, labels):\n",
    "    # pretty implementation of a confusion matrix\n",
    "    cm = confusion_matrix(y_truth, y_pred)\n",
    "    sns.heatmap(cm, annot=True, fmt=\"d\", linewidths=.5, square = True, cmap = 'BuGn_r')\n",
    "    # labels, title and ticks\n",
    "    plt.xlabel('Predicted label')\n",
    "    plt.ylabel('Actual label')\n",
    "    plt.title('Accuracy: {0}'.format(accuracy_score(y_truth, y_pred)), size = 15) \n",
    "    tick_marks = np.arange(len(labels))\n",
    "    plt.xticks(tick_marks, labels, rotation=45)\n",
    "    plt.yticks(tick_marks, labels)\n",
    "\n",
    "    "
   ]
  },
  {
   "cell_type": "code",
   "execution_count": 18,
   "metadata": {},
   "outputs": [
    {
     "data": {
      "image/png": "[encoded data removed]",
      "text/plain": [
       "<Figure size 432x288 with 2 Axes>"
      ]
     },
     "metadata": {
      "needs_background": "light"
     },
     "output_type": "display_data"
    }
   ],
   "source": [
    "pretty_cm(predictions, y_test, ['male', 'female'])\n"
   ]
  },
  {
   "cell_type": "code",
   "execution_count": 19,
   "metadata": {},
   "outputs": [
    {
     "data": {
      "image/png": "[encoded data removed]",
      "text/plain": [
       "<Figure size 432x288 with 1 Axes>"
      ]
     },
     "metadata": {
      "needs_background": "light"
     },
     "output_type": "display_data"
    }
   ],
   "source": [
    "y_pred_proba = logreg_classifier.predict_proba(X_test)[::,1]\n",
    "fpr, tpr, _ = roc_curve(y_test,  y_pred_proba)\n",
    "auc = roc_auc_score(y_test, y_pred_proba)\n",
    "plt.plot(fpr,tpr,label=\"data 1, auc=\"+str(auc))\n",
    "plt.legend(loc=4)\n",
    "plt.show()"
   ]
  },
  {
   "cell_type": "code",
   "execution_count": null,
   "metadata": {},
   "outputs": [],
   "source": []
  },
  {
   "cell_type": "code",
   "execution_count": null,
   "metadata": {},
   "outputs": [],
   "source": []
  }
 ],
 "metadata": {
  "kernelspec": {
   "display_name": "Python 3",
   "language": "python",
   "name": "python3"
  },
  "language_info": {
   "codemirror_mode": {
    "name": "ipython",
    "version": 3
   },
   "file_extension": ".py",
   "mimetype": "text/x-python",
   "name": "python",
   "nbconvert_exporter": "python",
   "pygments_lexer": "ipython3",
   "version": "3.7.5"
  }
 },
 "nbformat": 4,
 "nbformat_minor": 2
}

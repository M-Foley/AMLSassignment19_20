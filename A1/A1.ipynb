{
 "cells": [
  {
   "cell_type": "code",
   "execution_count": 1,
   "metadata": {},
   "outputs": [],
   "source": [
    "import sys\n",
    "import os\n",
    "import pandas as pd\n",
    "import seaborn as sns\n",
    "import numpy as np\n",
    "import cv2\n",
    "import matplotlib.pyplot as plt\n",
    "from sklearn.model_selection import train_test_split\n",
    "from sklearn.metrics import confusion_matrix, accuracy_score, roc_auc_score, roc_curve\n",
    "from sklearn.linear_model import LogisticRegression"
   ]
  },
  {
   "cell_type": "code",
   "execution_count": 2,
   "metadata": {},
   "outputs": [
    {
     "data": {
      "text/html": [
       "<div>\n",
       "<style scoped>\n",
       "    .dataframe tbody tr th:only-of-type {\n",
       "        vertical-align: middle;\n",
       "    }\n",
       "\n",
       "    .dataframe tbody tr th {\n",
       "        vertical-align: top;\n",
       "    }\n",
       "\n",
       "    .dataframe thead th {\n",
       "        text-align: right;\n",
       "    }\n",
       "</style>\n",
       "<table border=\"1\" class=\"dataframe\">\n",
       "  <thead>\n",
       "    <tr style=\"text-align: right;\">\n",
       "      <th></th>\n",
       "      <th>img_name</th>\n",
       "      <th>gender</th>\n",
       "    </tr>\n",
       "  </thead>\n",
       "  <tbody>\n",
       "    <tr>\n",
       "      <th>0</th>\n",
       "      <td>0.jpg</td>\n",
       "      <td>0</td>\n",
       "    </tr>\n",
       "    <tr>\n",
       "      <th>1</th>\n",
       "      <td>1.jpg</td>\n",
       "      <td>0</td>\n",
       "    </tr>\n",
       "    <tr>\n",
       "      <th>2</th>\n",
       "      <td>2.jpg</td>\n",
       "      <td>1</td>\n",
       "    </tr>\n",
       "    <tr>\n",
       "      <th>3</th>\n",
       "      <td>3.jpg</td>\n",
       "      <td>0</td>\n",
       "    </tr>\n",
       "    <tr>\n",
       "      <th>4</th>\n",
       "      <td>4.jpg</td>\n",
       "      <td>0</td>\n",
       "    </tr>\n",
       "  </tbody>\n",
       "</table>\n",
       "</div>"
      ],
      "text/plain": [
       "  img_name  gender\n",
       "0    0.jpg       0\n",
       "1    1.jpg       0\n",
       "2    2.jpg       1\n",
       "3    3.jpg       0\n",
       "4    4.jpg       0"
      ]
     },
     "execution_count": 2,
     "metadata": {},
     "output_type": "execute_result"
    }
   ],
   "source": [
    "# Load the labels of the dataset \n",
    "path = str(sys.path[0])[:-2]\n",
    "gender_labels = pd.read_csv(path + '/Datasets/dataset_AMLS_19-20/celeba/labels.csv', delimiter='\\t')\n",
    "gender_labels = gender_labels.iloc[:,1:3]\n",
    "gender_dict = {1: 1, -1: 0}\n",
    "gender_labels[\"gender\"].replace(gender_dict, inplace=True)\n",
    "gender_labels.head()\n"
   ]
  },
  {
   "cell_type": "code",
   "execution_count": 3,
   "metadata": {},
   "outputs": [
    {
     "name": "stdout",
     "output_type": "stream",
     "text": [
      "(5000, 2)\n"
     ]
    }
   ],
   "source": [
    "ROWS = 64\n",
    "COLS = 64\n",
    "CHANNELS = 3\n",
    "print(gender_labels.shape)\n",
    "# Create dataframes for test and train data split into .75 and .25 for train and test respectively\n",
    "X_train = pd.DataFrame(np.zeros((int(.75*gender_labels.shape[0]), ROWS * COLS * CHANNELS)))\n",
    "X_test = pd.DataFrame(np.zeros((int(.25*gender_labels.shape[0]), ROWS * COLS * CHANNELS)))\n",
    "y_train = list()\n",
    "y_test = list()"
   ]
  },
  {
   "cell_type": "code",
   "execution_count": 4,
   "metadata": {},
   "outputs": [],
   "source": [
    "def get_binary_training_data(classifier, data_set):\n",
    "    # split the data into the two types\n",
    "    data_one = data_set[data_set[classifier] == 1]\n",
    "    data_two = data_set[data_set[classifier] == 0]\n",
    "    # Splitting data into train and test\n",
    "    train_one_data, test_one_data = train_test_split(data_one)\n",
    "    train_two_data, test_two_data = train_test_split(data_two)\n",
    "    # Create final test data set out of male and female data\n",
    "    test_indices = test_one_data.index.tolist() + test_two_data.index.tolist()\n",
    "    test_data = data_set.iloc[test_indices,:]\n",
    "    train_data = pd.concat([data_set, test_data, test_data]).drop_duplicates(keep=False)\n",
    "    \n",
    "    return train_data, test_data"
   ]
  },
  {
   "cell_type": "code",
   "execution_count": 5,
   "metadata": {},
   "outputs": [],
   "source": [
    "train_data, test_data = get_binary_training_data('gender', gender_labels)"
   ]
  },
  {
   "cell_type": "code",
   "execution_count": 6,
   "metadata": {},
   "outputs": [],
   "source": [
    "# Read the image names \n",
    "img_path = path + 'Datasets/dataset_AMLS_19-20/celeba/img/' # path of your image folder\n",
    "train_image_name = [img_path + each for each in train_data['img_name'].values.tolist()]\n",
    "test_image_name = [img_path + each for each in test_data['img_name'].values.tolist()]"
   ]
  },
  {
   "cell_type": "code",
   "execution_count": 7,
   "metadata": {},
   "outputs": [
    {
     "ename": "NameError",
     "evalue": "name 'male_data' is not defined",
     "output_type": "error",
     "traceback": [
      "\u001b[0;31m---------------------------------------------------------------------------\u001b[0m",
      "\u001b[0;31mNameError\u001b[0m                                 Traceback (most recent call last)",
      "\u001b[0;32m<ipython-input-7-3ff8beabe7b2>\u001b[0m in \u001b[0;36m<module>\u001b[0;34m\u001b[0m\n\u001b[1;32m      1\u001b[0m \u001b[0;31m# Splitting male and female data into train and test\u001b[0m\u001b[0;34m\u001b[0m\u001b[0;34m\u001b[0m\u001b[0;34m\u001b[0m\u001b[0m\n\u001b[0;32m----> 2\u001b[0;31m \u001b[0mtrain_male_data\u001b[0m\u001b[0;34m,\u001b[0m \u001b[0mtest_male_data\u001b[0m \u001b[0;34m=\u001b[0m \u001b[0mtrain_test_split\u001b[0m\u001b[0;34m(\u001b[0m\u001b[0mmale_data\u001b[0m\u001b[0;34m)\u001b[0m\u001b[0;34m\u001b[0m\u001b[0;34m\u001b[0m\u001b[0m\n\u001b[0m\u001b[1;32m      3\u001b[0m \u001b[0mtrain_female_data\u001b[0m\u001b[0;34m,\u001b[0m \u001b[0mtest_female_data\u001b[0m \u001b[0;34m=\u001b[0m \u001b[0mtrain_test_split\u001b[0m\u001b[0;34m(\u001b[0m\u001b[0mfemale_data\u001b[0m\u001b[0;34m)\u001b[0m\u001b[0;34m\u001b[0m\u001b[0;34m\u001b[0m\u001b[0m\n\u001b[1;32m      4\u001b[0m \u001b[0mtrain_female_data\u001b[0m\u001b[0;34m.\u001b[0m\u001b[0mhead\u001b[0m\u001b[0;34m(\u001b[0m\u001b[0;34m)\u001b[0m\u001b[0;34m\u001b[0m\u001b[0;34m\u001b[0m\u001b[0m\n",
      "\u001b[0;31mNameError\u001b[0m: name 'male_data' is not defined"
     ]
    }
   ],
   "source": [
    "# Splitting male and female data into train and test\n",
    "train_male_data, test_male_data = train_test_split(male_data)\n",
    "train_female_data, test_female_data = train_test_split(female_data)\n",
    "train_female_data.head()"
   ]
  },
  {
   "cell_type": "code",
   "execution_count": null,
   "metadata": {},
   "outputs": [],
   "source": [
    "# Create final test data set out of male and female data\n",
    "test_indices = test_female_data.index.tolist() + test_male_data.index.tolist()\n",
    "test_data = gender_labels.iloc[test_indices,:]\n",
    "test_data.head()"
   ]
  },
  {
   "cell_type": "code",
   "execution_count": 8,
   "metadata": {},
   "outputs": [],
   "source": [
    "def prep_img(img_path, rows, columns):\n",
    "    # resize the image and flatten to use in LR\n",
    "    img = cv2.imread(img_path,cv2.IMREAD_COLOR)\n",
    "    img = cv2.resize(img, (rows, columns))\n",
    "    return(pd.Series(img.flatten()))\n"
   ]
  },
  {
   "cell_type": "code",
   "execution_count": 9,
   "metadata": {},
   "outputs": [],
   "source": [
    "def create_train_set(image_list, labels):\n",
    "    \n",
    "    counter_train = 0\n",
    "    X_train = pd.DataFrame(np.zeros((int(.75*labels.shape[0]), ROWS * COLS * CHANNELS)))\n",
    "    y_train = list()\n",
    "\n",
    "    # create the training set\n",
    "    for img in image_list:\n",
    "        X_train.iloc[counter_train, :] = prep_img(img, ROWS, COLS) / 255\n",
    "        counter_train += 1\n",
    "    \n",
    "    y_train = train_data.iloc[:,1].values.tolist()\n",
    "    return X_train, y_train\n"
   ]
  },
  {
   "cell_type": "code",
   "execution_count": 10,
   "metadata": {
    "scrolled": true
   },
   "outputs": [],
   "source": [
    "#print(y_train)"
   ]
  },
  {
   "cell_type": "code",
   "execution_count": 11,
   "metadata": {},
   "outputs": [],
   "source": [
    "# create the test dataset\n",
    "def create_test_set(image_list, labels):\n",
    "    counter_test = 0\n",
    "    X = pd.DataFrame(np.zeros((int(.25*labels.shape[0]), ROWS * COLS * CHANNELS)))\n",
    "    y = list()\n",
    "    for img in image_list:\n",
    "        X.iloc[counter_test, :] = prep_img(img, ROWS, COLS) / 255\n",
    "        counter_test += 1\n",
    "\n",
    "    y = test_data.iloc[:,1].values.tolist()\n",
    "    return X, y"
   ]
  },
  {
   "cell_type": "code",
   "execution_count": 12,
   "metadata": {},
   "outputs": [],
   "source": [
    "def create_dataset(labels):\n",
    "    \n",
    "    img_path = path + 'Datasets/dataset_AMLS_19-20/celeba/img/' # path of your image folder\n",
    "    train_image_name = [img_path + each for each in train_data['img_name'].values.tolist()]\n",
    "    test_image_name = [img_path + each for each in test_data['img_name'].values.tolist()]\n",
    "    \n",
    "    # Create dataframes for test and train data split into .75 and .25 for train and test respectively\n",
    "    X_train, y_train = create_train_set(train_image_name, labels)\n",
    "    print(X_train.shape)\n",
    "    print(len(y_train))\n",
    "    X_test, y_test = create_test_set(test_image_name, labels)\n",
    "    print(X_test.shape)\n",
    "    print(len(y_test))\n",
    "    return X_train, y_train, X_test, y_test"
   ]
  },
  {
   "cell_type": "code",
   "execution_count": 13,
   "metadata": {},
   "outputs": [],
   "source": [
    "def create_model():\n",
    "    return LogisticRegression(C=0.15, max_iter=400, solver='liblinear')\n"
   ]
  },
  {
   "cell_type": "code",
   "execution_count": 14,
   "metadata": {},
   "outputs": [],
   "source": [
    "def train_model(model, X, y):\n",
    "    model.fit(X, y)\n",
    "    return model.score(X,y)"
   ]
  },
  {
   "cell_type": "code",
   "execution_count": null,
   "metadata": {},
   "outputs": [],
   "source": [
    "def test_model(model, X, y):\n",
    "    predictions = model.predict(X)\n",
    "    return model.score(X, y)"
   ]
  },
  {
   "cell_type": "code",
   "execution_count": 15,
   "metadata": {},
   "outputs": [
    {
     "name": "stdout",
     "output_type": "stream",
     "text": [
      "(3750, 12288)\n",
      "3750\n",
      "(1250, 12288)\n",
      "1250\n"
     ]
    }
   ],
   "source": [
    "X_train, y_train, X_test, y_test = create_dataset(gender_labels)\n"
   ]
  },
  {
   "cell_type": "code",
   "execution_count": 16,
   "metadata": {},
   "outputs": [],
   "source": [
    "logreg_classifier = create_model()\n",
    "logreg_classifier_trained = train_model(logreg_classifier, X_train, y_train)"
   ]
  },
  {
   "cell_type": "code",
   "execution_count": 17,
   "metadata": {},
   "outputs": [],
   "source": [
    "predictions = logreg_classifier_trained.predict(X_test)"
   ]
  },
  {
   "cell_type": "code",
   "execution_count": 18,
   "metadata": {},
   "outputs": [
    {
     "data": {
      "text/plain": [
       "0.8904"
      ]
     },
     "execution_count": 18,
     "metadata": {},
     "output_type": "execute_result"
    }
   ],
   "source": [
    "logreg_classifier_trained.score(X_test, y_test)"
   ]
  },
  {
   "cell_type": "code",
   "execution_count": 19,
   "metadata": {},
   "outputs": [
    {
     "name": "stdout",
     "output_type": "stream",
     "text": [
      "0.9944\n"
     ]
    }
   ],
   "source": [
    "print(logreg_classifier.score(X_train, y_train))\n"
   ]
  },
  {
   "cell_type": "code",
   "execution_count": 20,
   "metadata": {},
   "outputs": [],
   "source": [
    "def pretty_cm(y_pred, y_truth, labels):\n",
    "    # pretty implementation of a confusion matrix\n",
    "    cm = confusion_matrix(y_truth, y_pred)\n",
    "    sns.heatmap(cm, annot=True, fmt=\"d\", linewidths=.5, square = True, cmap = 'BuGn_r')\n",
    "    # labels, title and ticks\n",
    "    plt.xlabel('Predicted label')\n",
    "    plt.ylabel('Actual label')\n",
    "    plt.title('Accuracy: {0}'.format(accuracy_score(y_truth, y_pred)), size = 15) \n",
    "    tick_marks = np.arange(len(labels))\n",
    "    plt.xticks(tick_marks, labels, rotation=45)\n",
    "    plt.yticks(tick_marks, labels)\n",
    "\n",
    "    "
   ]
  },
  {
   "cell_type": "code",
   "execution_count": 21,
   "metadata": {},
   "outputs": [
    {
     "data": {
      "image/png": "[encoded data removed]",
      "text/plain": [
       "<Figure size 432x288 with 2 Axes>"
      ]
     },
     "metadata": {
      "needs_background": "light"
     },
     "output_type": "display_data"
    }
   ],
   "source": [
    "pretty_cm(predictions, y_test, ['male', 'female'])\n"
   ]
  },
  {
   "cell_type": "code",
   "execution_count": 22,
   "metadata": {},
   "outputs": [
    {
     "data": {
      "image/png": "[encoded data removed]",
      "text/plain": [
       "<Figure size 432x288 with 1 Axes>"
      ]
     },
     "metadata": {
      "needs_background": "light"
     },
     "output_type": "display_data"
    }
   ],
   "source": [
    "y_pred_proba = logreg_classifier.predict_proba(X_test)[::,1]\n",
    "fpr, tpr, _ = roc_curve(y_test,  y_pred_proba)\n",
    "auc = roc_auc_score(y_test, y_pred_proba)\n",
    "plt.plot(fpr,tpr,label=\"data 1, auc=\"+str(auc))\n",
    "plt.legend(loc=4)\n",
    "plt.show()"
   ]
  },
  {
   "cell_type": "code",
   "execution_count": null,
   "metadata": {},
   "outputs": [],
   "source": []
  },
  {
   "cell_type": "code",
   "execution_count": null,
   "metadata": {},
   "outputs": [],
   "source": []
  }
 ],
 "metadata": {
  "kernelspec": {
   "display_name": "Python 3",
   "language": "python",
   "name": "python3"
  },
  "language_info": {
   "codemirror_mode": {
    "name": "ipython",
    "version": 3
   },
   "file_extension": ".py",
   "mimetype": "text/x-python",
   "name": "python",
   "nbconvert_exporter": "python",
   "pygments_lexer": "ipython3",
   "version": "3.7.5"
  }
 },
 "nbformat": 4,
 "nbformat_minor": 2
}

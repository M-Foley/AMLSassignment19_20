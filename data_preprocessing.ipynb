{
 "cells": [
  {
   "cell_type": "code",
   "execution_count": 4,
   "metadata": {},
   "outputs": [],
   "source": [
    "import sys\n",
    "import pandas as pd\n",
    "import seaborn as sns\n",
    "from sklearn.model_selection import train_test_split\n"
   ]
  },
  {
   "cell_type": "code",
   "execution_count": 5,
   "metadata": {},
   "outputs": [],
   "source": [
    "def get_binary_training_data(classifier, data_set):\n",
    "    # split the data into the two types\n",
    "    data_one = data_set[data_set[classifier] == 1]\n",
    "    data_two = data_set[data_set[classifier] == 0]\n",
    "    # Splitting data into train and test\n",
    "    train_one_data, test_one_data = train_test_split(data_one)\n",
    "    train_two_data, test_two_data = train_test_split(data_two)\n",
    "    # Create final test data set out of male and female data\n",
    "    test_indices = test_one_data.index.tolist() + test_two_data.index.tolist()\n",
    "    test_data = data_set.iloc[test_indices,:]\n",
    "    train_data = pd.concat([data_set, test_data, test_data]).drop_duplicates(keep=False)\n",
    "    \n",
    "    return train_data, test_data\n",
    "\n"
   ]
  },
  {
   "cell_type": "code",
   "execution_count": 6,
   "metadata": {},
   "outputs": [],
   "source": [
    "# Load the labels of the dataset \n",
    "path = str(sys.path[0])\n",
    "celeb_labels = pd.read_csv(path + '/Datasets/dataset_AMLS_19-20/celeba/labels.csv', delimiter='\\t')\n",
    "celeb_labels = celeb_labels.iloc[:,1:4]\n",
    "celeb_dict = {1: 1, -1: 0}\n",
    "celeb_labels[\"smiling\"].replace(celeb_dict, inplace=True)\n",
    "celeb_labels[\"gender\"].replace(celeb_dict, inplace=True)\n",
    "\n",
    "smile_labels = celeb_labels.drop('gender', axis=1)\n",
    "gender_labels = celeb_labels.drop('smiling', axis=1)\n",
    "smile_labels.head()\n",
    "\n",
    "train_smile_data, test_smile_data = get_binary_training_data('smiling', smile_labels)\n",
    "train_gender_data, test_gender_data = get_binary_training_data('gender', gender_labels)\n",
    "\n"
   ]
  },
  {
   "cell_type": "code",
   "execution_count": 7,
   "metadata": {},
   "outputs": [],
   "source": [
    "def get_multiclass_data(classifier, data):\n",
    "    data_min = 0\n",
    "    if np.amin(data[classifier].value_counts())%2==0: data_min = np.amin(data[classifier].value_counts())\n",
    "    else : data_min = np.amin(data[classifier].value_counts()) -1\n",
    "        \n",
    "    zero_data = labels[labels[classifier]==0]\n",
    "    zero_data = zero_data[-data_min:]\n",
    "\n",
    "    one_data = labels[labels[classifier]==1]\n",
    "    one_data = one_data[-data_min:]\n",
    "\n",
    "    two_data = labels[labels[classifier]==2]\n",
    "    two_data = two_data[-data_min:]\n",
    "\n",
    "    three_data = labels[labels[classifier]==3]\n",
    "    three_data = three_data[-data_min:]\n",
    "\n",
    "    four_data = labels[labels[classifier]==4]\n",
    "    four_data = four_data[-data_min:]\n",
    "\n",
    "    # Splitting data into train and test for each value\n",
    "    train_zero_data, test_zero_data = train_test_split(zero_data)\n",
    "    train_one_data, test_one_data = train_test_split(one_data)\n",
    "    train_two_data, test_two_data = train_test_split(two_data)\n",
    "    train_three_data, test_three_data = train_test_split(three_data)\n",
    "    train_four_data, test_four_data = train_test_split(four_data)\n",
    "    \n",
    "    \n",
    "    # Create final test data set out of data\n",
    "    test_indices = test_zero_data.index.tolist() + test_one_data.index.tolist() \\\n",
    "                    + test_two_data.index.tolist()+ test_three_data.index.tolist() \\\n",
    "                    + test_four_data.index.tolist()\n",
    "\n",
    "    test_data = data.iloc[test_indices,:]\n",
    "\n",
    "    # Filter the training data from the labels \n",
    "    train_indices = train_zeroeye_data.index.tolist() + train_oneeye_data.index.tolist() \\\n",
    "                    + train_twoeye_data.index.tolist()+ train_threeeye_data.index.tolist() \\\n",
    "                    + train_foureye_data.index.tolist()\n",
    "    train_data = eye_labels.iloc[train_indices,:]\n",
    "    train_data.head()"
   ]
  },
  {
   "cell_type": "code",
   "execution_count": 13,
   "metadata": {},
   "outputs": [],
   "source": [
    "class get_data:\n",
    "    def get_data():\n",
    "        # Load the labels of the datasets\n",
    "        path = str(sys.path[0])\n",
    "        celeb_labels = pd.read_csv(path + '/Datasets/dataset_AMLS_19-20/celeba/labels.csv', delimiter='\\t')\n",
    "        celeb_labels = celeb_labels.iloc[:,1:4]\n",
    "        celeb_dict = {1: 1, -1: 0}\n",
    "        celeb_labels[\"smiling\"].replace(celeb_dict, inplace=True)\n",
    "        celeb_labels[\"gender\"].replace(celeb_dict, inplace=True)\n",
    "\n",
    "        smile_labels = celeb_labels.drop('gender', axis=1)\n",
    "        gender_labels = celeb_labels.drop('smiling', axis=1)\n",
    "        smile_labels.head()\n",
    "\n",
    "        train_smile_data, test_smile_data = get_binary_training_data('smiling', smile_labels)\n",
    "        train_gender_data, test_gender_data = get_binary_training_data('gender', gender_labels)\n",
    "\n",
    "        cartoon_labels = pd.read_csv(path + '/Datasets/dataset_AMLS_19-20/cartoon_set/labels.csv', delimiter='\\t')\n",
    "        cartoon_labels = cartoon_labels.iloc[:,1:4]\n",
    "        face_labels = cartoon_labels.drop('eye_color', axis=1)\n",
    "        eye_labels = cartoon_labels.drop('face_shape', axis=1)\n",
    "        columns_faces = [\"file_name\",\"face_shape\"]\n",
    "        columns_eyes = [\"file_name\",\"eye_color\"]\n",
    "        face_labels = face_labels.reindex(columns=columns_faces)\n",
    "        eye_labels = eye_labels.reindex(columns=columns_eyes)\n",
    "\n",
    "        train_eye_data, test_eye_data = get_binary_training_data('eye_color', eye_labels)\n",
    "        train_face_data, test_face_data = get_binary_training_data('face_shape', face_labels)\n",
    "\n",
    "        return train_smile_data, test_smile_data, train_gender_data, test_gender_data, train_eye_data, test_eye_data, train_face_data, test_face_data\n",
    "        "
   ]
  },
  {
   "cell_type": "code",
   "execution_count": null,
   "metadata": {},
   "outputs": [],
   "source": []
  }
 ],
 "metadata": {
  "kernelspec": {
   "display_name": "Python 3",
   "language": "python",
   "name": "python3"
  },
  "language_info": {
   "codemirror_mode": {
    "name": "ipython",
    "version": 3
   },
   "file_extension": ".py",
   "mimetype": "text/x-python",
   "name": "python",
   "nbconvert_exporter": "python",
   "pygments_lexer": "ipython3",
   "version": "3.7.5"
  }
 },
 "nbformat": 4,
 "nbformat_minor": 2
}
